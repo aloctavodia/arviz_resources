{
 "cells": [
  {
   "cell_type": "markdown",
   "metadata": {},
   "source": [
    "# Welcome! (Beta)\n",
    "Welcome to the Arviz resources repository. This repository is intended to be a collection reading material, examples, and other educational material related to explaining the functionality and output of the ArviZ python package."
   ]
  },
  {
   "cell_type": "markdown",
   "metadata": {},
   "source": [
    "## What is Arviz\n",
    "<img src=\"https://raw.githubusercontent.com/arviz-devs/arviz/master/doc/logo/ArviZ.png\" alt=\"Arviz\" width=\"500\"/>\n",
    "\n",
    "ArviZ is is a Python package for exploratory analysis of Bayesian models. In particular it takes the various outputs from Bayesian computational libraries, such as stan, PyMC3, and others, and provides a common method to plot and understand the results.\n",
    "\n",
    "More information about how to use ArviZ can be found in the docs. https://arviz-devs.github.io/arviz/index.html"
   ]
  },
  {
   "cell_type": "markdown",
   "metadata": {},
   "source": [
    "## Intended Audience\n",
    "While ArviZ strives to provide an easy way for Bayesian practioners to create exploratory plots and statistics, the package and docs alone do not explain how to **use** the exploratory plots and statistics. This repository is aimed to fill that gap, and serve as more in depth explanaton to all the functionality in ArviZ. Ideally it will be a handy reference for Bayesian practitioners that are using probabilistic programming but may be unfamiliar with the various methods of model criticism.\n",
    "\n",
    "For those interested in how to construct models either  PyMC3 or Pystan, both libraries documentation numerous example.\n",
    "* [PyMC3](https://docs.pymc.io/)\n",
    "* [PyStan](https://pystan.readthedocs.io/en/latest/)\n",
    "* [CmdStan](http://mc-stan.org/users/interfaces/cmdstan)\n",
    "\n",
    "If interested in Bayesian Statistical methods in general the following resources are recommended\n",
    "* [Bayesian Analysis With Python](https://www.amazon.com/Bayesian-Analysis-Python-Introduction-probabilistic-ebook/dp/B07HHBCR9G)\n",
    "* [Bayesian Methods for Hackers](https://github.com/CamDavidsonPilon/Probabilistic-Programming-and-Bayesian-Methods-for-Hackers)\n",
    "* [Statistical Rethinking](https://www.amazon.com/Statistical-Rethinking-Bayesian-Examples-Chapman/dp/1482253445)\n"
   ]
  }
 ],
 "metadata": {
  "kernelspec": {
   "display_name": "Python 3",
   "language": "python",
   "name": "python3"
  },
  "language_info": {
   "codemirror_mode": {
    "name": "ipython",
    "version": 3
   },
   "file_extension": ".py",
   "mimetype": "text/x-python",
   "name": "python",
   "nbconvert_exporter": "python",
   "pygments_lexer": "ipython3",
   "version": "3.6.6"
  }
 },
 "nbformat": 4,
 "nbformat_minor": 2
}
