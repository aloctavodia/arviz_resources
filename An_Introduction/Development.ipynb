{
 "cells": [
  {
   "cell_type": "markdown",
   "metadata": {},
   "source": [
    "# Development\n",
    "\n",
    "This repository will be continually updated. As is such the material in the repository will be in various states of completion. The reason for doing this over a standard publish at fixed intervals is that with continual releases the content is available as early as possible and can be edited as needed."
   ]
  },
  {
   "cell_type": "markdown",
   "metadata": {},
   "source": [
    "## Writing \"state\" markers\n",
    "Readers, and reviewers, will see the following markers spread throughout the respository. \n",
    "\n",
    "### Header Markers\n",
    "The title may contain the following markers to indicate level of completion. For example a title may read **Autocorrelation plot (alpha)** or **Posterior Plot (beta)**. This mechanism allows the writers to merge changes in incrementally, without needing to hold up an entire document until its perfect. For the reader this should set the level of expectation of how \"rough\" the document will be.\n",
    "\n",
    "#### (Alpha)\n",
    "* First couple of releases\n",
    "* Major sections still missing\n",
    "* Outstanding questions about correctness of information\n",
    "\n",
    "#### (Beta)\n",
    "* Spelling errors and cleanup\n",
    "* Plot fixes or tweaks\n",
    "* Verbiage or flow fixes to document\n",
    "\n",
    "#### Lack of Marker\n",
    "* No In Content markers (see below)\n",
    "* Could be printed in a book!"
   ]
  },
  {
   "cell_type": "markdown",
   "metadata": {},
   "source": [
    "### In Content Makers\n",
    "The body of the document may contain markers to remind writers or reviewers to revisit document to correct issues\n",
    "\n",
    "### TODO\n",
    "**TODO** may be seen in bold, and should be accompanied by a message indicating what work needs to be completed. "
   ]
  }
 ],
 "metadata": {
  "kernelspec": {
   "display_name": "Python 3",
   "language": "python",
   "name": "python3"
  },
  "language_info": {
   "codemirror_mode": {
    "name": "ipython",
    "version": 3
   },
   "file_extension": ".py",
   "mimetype": "text/x-python",
   "name": "python",
   "nbconvert_exporter": "python",
   "pygments_lexer": "ipython3",
   "version": "3.5.6"
  }
 },
 "nbformat": 4,
 "nbformat_minor": 2
}
