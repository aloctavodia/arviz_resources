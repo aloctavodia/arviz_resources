{
 "cells": [
  {
   "cell_type": "code",
   "execution_count": 1,
   "id": "82c9a211",
   "metadata": {},
   "outputs": [],
   "source": [
    "import arviz_base as azb\n",
    "import pandas as pd\n",
    "import bambi as bmb\n",
    "SEED = 91764"
   ]
  },
  {
   "cell_type": "code",
   "execution_count": 2,
   "id": "8ebe62d6",
   "metadata": {},
   "outputs": [],
   "source": [
    "trolley = pd.read_csv(\"https://raw.githubusercontent.com/rmcelreath/rethinking/master/data/Trolley.csv\", sep=\";\")\n",
    "trolley = trolley[[\"response\", \"action\", \"intention\", \"contact\"]][::7]\n",
    "trolley[\"action\"] = pd.Categorical(trolley[\"action\"], ordered=False)\n",
    "trolley[\"intention\"] = pd.Categorical(trolley[\"intention\"], ordered=False)\n",
    "trolley[\"contact\"] = pd.Categorical(trolley[\"contact\"], ordered=False)\n",
    "trolley[\"response\"] = pd.Categorical(trolley[\"response\"], ordered=True)"
   ]
  },
  {
   "cell_type": "code",
   "execution_count": 3,
   "id": "2cd743fe",
   "metadata": {},
   "outputs": [
    {
     "name": "stderr",
     "output_type": "stream",
     "text": [
      "Initializing NUTS using jitter+adapt_diag...\n",
      "Multiprocess sampling (4 chains in 4 jobs)\n",
      "NUTS: [threshold, action, intention, contact]\n"
     ]
    },
    {
     "data": {
      "application/vnd.jupyter.widget-view+json": {
       "model_id": "dfb4e61ebd96462aa53df4ef463887c5",
       "version_major": 2,
       "version_minor": 0
      },
      "text/plain": [
       "Output()"
      ]
     },
     "metadata": {},
     "output_type": "display_data"
    },
    {
     "data": {
      "text/html": [
       "<pre style=\"white-space:pre;overflow-x:auto;line-height:normal;font-family:Menlo,'DejaVu Sans Mono',consolas,'Courier New',monospace\"></pre>\n"
      ],
      "text/plain": []
     },
     "metadata": {},
     "output_type": "display_data"
    },
    {
     "name": "stderr",
     "output_type": "stream",
     "text": [
      "Sampling 4 chains for 1_000 tune and 1_000 draw iterations (4_000 + 4_000 draws total) took 11 seconds.\n"
     ]
    }
   ],
   "source": [
    "model = bmb.Model(\n",
    "    \"response ~ 0 + action + intention + contact\", \n",
    "    \n",
    "    data=trolley, \n",
    "    family=\"cumulative\"\n",
    ")\n",
    "idata = model.fit(random_seed=SEED)\n",
    "model.predict(idata, kind=\"response\", random_seed=SEED, inplace=True)\n",
    "del idata.posterior\n",
    "del idata.sample_stats\n",
    "azb.convert_to_datatree(idata).to_netcdf(\"../prerun/dt_ord.nc\")"
   ]
  },
  {
   "cell_type": "code",
   "execution_count": 4,
   "id": "0137fadc",
   "metadata": {},
   "outputs": [
    {
     "name": "stderr",
     "output_type": "stream",
     "text": [
      "Initializing NUTS using jitter+adapt_diag...\n",
      "Multiprocess sampling (4 chains in 4 jobs)\n",
      "NUTS: [Intercept, length, sex]\n"
     ]
    },
    {
     "data": {
      "application/vnd.jupyter.widget-view+json": {
       "model_id": "da18841f48fd4c1a8f4376dcb74f0410",
       "version_major": 2,
       "version_minor": 0
      },
      "text/plain": [
       "Output()"
      ]
     },
     "metadata": {},
     "output_type": "display_data"
    },
    {
     "data": {
      "text/html": [
       "<pre style=\"white-space:pre;overflow-x:auto;line-height:normal;font-family:Menlo,'DejaVu Sans Mono',consolas,'Courier New',monospace\"></pre>\n"
      ],
      "text/plain": []
     },
     "metadata": {},
     "output_type": "display_data"
    },
    {
     "name": "stderr",
     "output_type": "stream",
     "text": [
      "Sampling 4 chains for 1_000 tune and 1_000 draw iterations (4_000 + 4_000 draws total) took 3 seconds.\n"
     ]
    }
   ],
   "source": [
    "import matplotlib.pyplot as plt\n",
    "import bambi as bmb\n",
    "import numpy as np\n",
    "import pandas as pd\n",
    "\n",
    "length = [\n",
    "    1.3, 1.32, 1.32, 1.4, 1.42, 1.42, 1.47, 1.47, 1.5, 1.52, 1.63, 1.65, 1.65, 1.65, 1.65,\n",
    "    1.68, 1.7, 1.73, 1.78, 1.78, 1.8, 1.85, 1.93, 1.93, 1.98, 2.03, 2.03, 2.31, 2.36, 2.46,\n",
    "    3.25, 3.28, 3.33, 3.56, 3.58, 3.66, 3.68, 3.71, 3.89, 1.24, 1.3, 1.45, 1.45, 1.55, 1.6, \n",
    "    1.6, 1.65, 1.78, 1.78, 1.8, 1.88, 2.16, 2.26, 2.31, 2.36, 2.39, 2.41, 2.44, 2.56, 2.67, \n",
    "    2.72, 2.79, 2.84\n",
    "]\n",
    "choice = [\n",
    "    \"I\", \"F\", \"F\", \"F\", \"I\", \"F\", \"I\", \"F\", \"I\", \"I\", \"I\", \"O\", \"O\", \"I\", \"F\", \"F\", \n",
    "    \"I\", \"O\", \"F\", \"O\", \"F\", \"F\", \"I\", \"F\", \"I\", \"F\", \"F\", \"F\", \"F\", \"F\", \"O\", \"O\", \n",
    "    \"F\", \"F\", \"F\", \"F\", \"O\", \"F\", \"F\", \"I\", \"I\", \"I\", \"O\", \"I\", \"I\", \"I\", \"F\", \"I\", \n",
    "    \"O\", \"I\", \"I\", \"F\", \"F\", \"F\", \"F\", \"F\", \"F\", \"F\", \"O\", \"F\", \"I\", \"F\", \"F\"\n",
    "]\n",
    "\n",
    "sex = [\"Male\"] * 32 + [\"Female\"] * 31\n",
    "data = pd.DataFrame({\"choice\": choice, \"length\": length, \"sex\": sex})\n",
    "data[\"choice\"]  = pd.Categorical(\n",
    "    data[\"choice\"].map({\"I\": \"Invertebrates\", \"F\": \"Fish\", \"O\": \"Other\"}), \n",
    "    [\"Other\", \"Invertebrates\", \"Fish\"], \n",
    "    ordered=True\n",
    ")\n",
    "\n",
    "model = bmb.Model(\"choice ~ length + sex\", data, family=\"categorical\")\n",
    "idata = model.fit(random_seed=SEED)\n",
    "model.predict(idata, kind=\"response\", random_seed=SEED, inplace=True)\n",
    "del idata.posterior\n",
    "del idata.sample_stats\n",
    "azb.convert_to_datatree(idata).to_netcdf(\"../prerun/dt_cat.nc\")"
   ]
  }
 ],
 "metadata": {
  "kernelspec": {
   "display_name": "arviz_1",
   "language": "python",
   "name": "python3"
  },
  "language_info": {
   "codemirror_mode": {
    "name": "ipython",
    "version": 3
   },
   "file_extension": ".py",
   "mimetype": "text/x-python",
   "name": "python",
   "nbconvert_exporter": "python",
   "pygments_lexer": "ipython3",
   "version": "3.12.7"
  }
 },
 "nbformat": 4,
 "nbformat_minor": 5
}
